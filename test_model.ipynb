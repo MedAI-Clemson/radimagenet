{
 "cells": [
  {
   "cell_type": "code",
   "execution_count": 1,
   "id": "dbe752d1-8c8a-4a38-8a26-2ae9b2b32886",
   "metadata": {},
   "outputs": [],
   "source": [
    "import torch\n",
    "from torch import nn\n",
    "import timm"
   ]
  },
  {
   "cell_type": "code",
   "execution_count": 2,
   "id": "746f5a87-5052-417e-842b-05c6b1b8840d",
   "metadata": {},
   "outputs": [],
   "source": [
    "m = timm.create_model('xception', checkpoint_path='/home/dane2/Code/radimagenet/output/train/20221022-154412-xception-224/model_best.pth.tar')"
   ]
  },
  {
   "cell_type": "code",
   "execution_count": 3,
   "id": "5c343220-f4a9-4d0d-b178-046b3f2f987f",
   "metadata": {},
   "outputs": [
    {
     "data": {
      "text/plain": [
       "Linear(in_features=2048, out_features=1000, bias=True)"
      ]
     },
     "execution_count": 3,
     "metadata": {},
     "output_type": "execute_result"
    }
   ],
   "source": [
    "m.fc"
   ]
  },
  {
   "cell_type": "code",
   "execution_count": 8,
   "id": "ba4148f7-6307-4e03-938c-5ac42b7e0e40",
   "metadata": {},
   "outputs": [
    {
     "data": {
      "text/plain": [
       "tensor(-9.8628e-05, grad_fn=<MeanBackward0>)"
      ]
     },
     "execution_count": 8,
     "metadata": {},
     "output_type": "execute_result"
    }
   ],
   "source": [
    "m.fc.bias[165:].mean()"
   ]
  },
  {
   "cell_type": "code",
   "execution_count": 9,
   "id": "49546844-9166-490b-979a-3dc8efd7dffd",
   "metadata": {},
   "outputs": [
    {
     "data": {
      "text/plain": [
       "tensor(0.0053, grad_fn=<MeanBackward0>)"
      ]
     },
     "execution_count": 9,
     "metadata": {},
     "output_type": "execute_result"
    }
   ],
   "source": [
    "m.fc.bias[:165].mean()"
   ]
  },
  {
   "cell_type": "code",
   "execution_count": 10,
   "id": "d6902976-89a0-4724-a067-6e7106346801",
   "metadata": {},
   "outputs": [],
   "source": [
    "import pickle"
   ]
  },
  {
   "cell_type": "code",
   "execution_count": 11,
   "id": "f1006f52-c248-4877-863a-e70aa42ccf3b",
   "metadata": {},
   "outputs": [],
   "source": [
    "with open('/zfs/wficai/radimagenet/imagenet_fmt/class_map.pkl', 'rb') as f:\n",
    "    d = pickle.load(f)"
   ]
  },
  {
   "cell_type": "code",
   "execution_count": 12,
   "id": "95dd07b0-65f3-4df2-a54c-a29e192b6de6",
   "metadata": {},
   "outputs": [
    {
     "data": {
      "text/plain": [
       "165"
      ]
     },
     "execution_count": 12,
     "metadata": {},
     "output_type": "execute_result"
    }
   ],
   "source": [
    "len(d)"
   ]
  },
  {
   "cell_type": "code",
   "execution_count": 13,
   "id": "f872eb89-e924-43e9-acc8-4a8177d799c5",
   "metadata": {},
   "outputs": [
    {
     "data": {
      "text/plain": [
       "{'MR_shoulder_supraspinatus_pathology': 0,\n",
       " 'MR_hip_soft_tissue_fluid': 1,\n",
       " 'MR_brain_white_matter_changes': 2,\n",
       " 'MR_hip_marrow_inflammation': 3,\n",
       " 'MR_brain_extra': 4,\n",
       " 'MR_shoulder_post_op': 5,\n",
       " 'US_usthyroid_thyroid': 6,\n",
       " 'MR_shoulder_marrow_inflammation': 7,\n",
       " 'MR_mriabd_dilated_urinary_tract': 8,\n",
       " 'MR_mriabd_gallbladder_pathology': 9,\n",
       " 'CT_abd_arterial_pathology': 10,\n",
       " 'MR_mriabd_marrow_abn': 11,\n",
       " 'MR_hip_soft_tissue_mass': 12,\n",
       " 'CT_abd_normal': 13,\n",
       " 'MR_af_soft_tissue_edema': 14,\n",
       " 'MR_mriabd_arterial_pathology': 15,\n",
       " 'CT_abd_liver_lesion': 16,\n",
       " 'MR_mriabd_normal': 17,\n",
       " 'MR_mriabd_liver_lesion': 18,\n",
       " 'US_usabd_cbd': 19,\n",
       " 'CT_lung_interstitial_lung_disease': 20,\n",
       " 'CT_abd_post_op': 21,\n",
       " 'MR_mriabd_osseous_neoplasm': 22,\n",
       " 'MR_brain_pituatary_lesion': 23,\n",
       " 'CT_abd_degenerative_changes': 24,\n",
       " 'MR_knee_soft_tissue_mass': 25,\n",
       " 'US_usabd_aorta': 26,\n",
       " 'MR_shoulder_soft_tissue_edema': 27,\n",
       " 'CT_abd_adrenal_pathology': 28,\n",
       " 'MR_shoulder_osseous_lesion': 29,\n",
       " 'MR_shoulder_subscapularis_pathology': 30,\n",
       " 'MR_knee_hematoma': 31,\n",
       " 'MR_knee_acl_pathology': 32,\n",
       " 'CT_abd_bowel_abnormality': 33,\n",
       " 'MR_brain_edema': 34,\n",
       " 'MR_knee_pcl_pathology': 35,\n",
       " 'CT_abd_ovarian_pathology': 36,\n",
       " 'MR_hip_chondral_pathology': 37,\n",
       " 'MR_af_flexor_pathology_': 38,\n",
       " 'MR_knee_soft_tissue_edema': 39,\n",
       " 'MR_spine_normal': 40,\n",
       " 'MR_hip_normal': 41,\n",
       " 'US_usabd_liver': 42,\n",
       " 'CT_lung_Nodule': 43,\n",
       " 'CT_abd_bladder_pathology': 44,\n",
       " 'MR_hip_hamstring_pathology': 45,\n",
       " 'CT_abd_soft_tissue_mass': 46,\n",
       " 'MR_mriabd_splenic_lesion': 47,\n",
       " 'MR_spine_dural_epidural_abn': 48,\n",
       " 'MR_af_normal': 49,\n",
       " 'MR_af_syndesmosis_pathology': 50,\n",
       " 'MR_mriabd_uterine_pathology': 51,\n",
       " 'MR_af_cfl_pathology': 52,\n",
       " 'CT_abd_bowel_mass': 53,\n",
       " 'MR_spine_cystic_lesions': 54,\n",
       " 'MR_af_intra': 55,\n",
       " 'MR_mriabd_bil_dil': 56,\n",
       " 'MR_af_osseous_neoplasm': 57,\n",
       " 'CT_abd_gallstone': 58,\n",
       " 'CT_abd_fat_containing_tumor': 59,\n",
       " 'MR_af_chondral_abnormality': 60,\n",
       " 'CT_abd_intraperitoneal_mass': 61,\n",
       " 'CT_abd_splenic_lesion': 62,\n",
       " 'US_usabd_uterus': 63,\n",
       " 'MR_knee_meniscal_abnormality': 64,\n",
       " 'MR_knee_quad_pathology': 65,\n",
       " 'MR_shoulder_biceps_pathology': 66,\n",
       " 'MR_brain_acute_infarct': 67,\n",
       " 'MR_af_deltoid_pathology': 68,\n",
       " 'MR_af_lisfranc_pathology': 69,\n",
       " 'MR_spine_osseous_abn': 70,\n",
       " 'MR_spine_cord_pathology_': 71,\n",
       " 'MR_af_peroneal_pathology': 72,\n",
       " 'US_usthyroid_thyroid_nodule': 73,\n",
       " 'CT_abd_ascites': 74,\n",
       " 'MR_hip_osseous_disruption': 75,\n",
       " 'CT_abd_pancreatic_lesion': 76,\n",
       " 'CT_abd_soft_tissue_collection': 77,\n",
       " 'CT_lung_Airspace_opacity': 78,\n",
       " 'MR_mriabd_enlarged_organ': 79,\n",
       " 'MR_knee_fracture': 80,\n",
       " 'MR_af_spring_ligament_injury': 81,\n",
       " 'MR_shoulder_labral_pathology': 82,\n",
       " 'MR_brain_arteriovenous_anomaly': 83,\n",
       " 'CT_abd_bowel_inflammation': 84,\n",
       " 'CT_abd_prostate_lesion': 85,\n",
       " 'MR_af_extensor_pathology_': 86,\n",
       " 'MR_hip_post_op': 87,\n",
       " 'MR_mriabd_soft_tissue_collection': 88,\n",
       " 'US_usabd_gb': 89,\n",
       " 'CT_abd_uterine_pathology': 90,\n",
       " 'MR_knee_fcl_pathology': 91,\n",
       " 'CT_abd_urolithiasis': 92,\n",
       " 'MR_mriabd_degenerative_changes': 93,\n",
       " 'MR_knee_soft_tissue_fluid_collection': 94,\n",
       " 'MR_shoulder_ghj_oa': 95,\n",
       " 'MR_knee_bone_inflammation': 96,\n",
       " 'MR_mriabd_bladder_pathology': 97,\n",
       " 'US_usabd_portal_vein': 98,\n",
       " 'MR_mriabd_bowel_inflammation': 99,\n",
       " 'MR_shoulder_normal': 100,\n",
       " 'MR_hip_abductor_pathology_': 101,\n",
       " 'MR_knee_patella_pathology': 102,\n",
       " 'MR_af_achilles_pathology_': 103,\n",
       " 'MR_af_Plantar_plate_tear': 104,\n",
       " 'MR_mriabd_pancreatic_lesion': 105,\n",
       " 'MR_knee_post_operative_acl': 106,\n",
       " 'MR_mriabd_liver_disease_': 107,\n",
       " 'US_usabd_fibroid': 108,\n",
       " 'US_usabd_spleen': 109,\n",
       " 'MR_knee_chondral_abnormality': 110,\n",
       " 'MR_brain_intra': 111,\n",
       " 'MR_mriabd_soft_tissue_mass': 112,\n",
       " 'MR_af_bone_inflammation': 113,\n",
       " 'CT_lung_Bronchiectasis': 114,\n",
       " 'MR_af_fat_containing_tumor': 115,\n",
       " 'MR_spine_facet_arthropathy': 116,\n",
       " 'MR_af_plantar_fascia_pathology': 117,\n",
       " 'MR_spine_scoliosis': 118,\n",
       " 'US_usabd_bladder': 119,\n",
       " 'MR_af_coalition': 120,\n",
       " 'MR_knee_mcl_pathology': 121,\n",
       " 'MR_hip_labral_pathology': 122,\n",
       " 'MR_af_soft_tissue_fluid': 123,\n",
       " 'MR_brain_focal_flair_hyper': 124,\n",
       " 'MR_brain_normal': 125,\n",
       " 'MR_af_soft_tissue_mass': 126,\n",
       " 'MR_mriabd_bowel_mass': 127,\n",
       " 'MR_spine_disc_pathology': 128,\n",
       " 'MR_hip_hematoma': 129,\n",
       " 'MR_hip_capsular_pathology': 130,\n",
       " 'MR_af_hematoma': 131,\n",
       " 'US_usabd_pancreas': 132,\n",
       " 'CT_abd_bil_dil': 133,\n",
       " 'MR_mriabd_intraperitoneal_mass': 134,\n",
       " 'MR_mriabd_renal_lesion': 135,\n",
       " 'MR_hip_soft_tissue_edema': 136,\n",
       " 'CT_abd_renal_lesion': 137,\n",
       " 'MR_knee_intra': 138,\n",
       " 'CT_abd_osseous_neoplasm': 139,\n",
       " 'MR_shoulder_ca++_tendinosis': 140,\n",
       " 'MR_knee_normal': 141,\n",
       " 'CT_abd_abnormal_entire_organ': 142,\n",
       " 'CT_lung_normal': 143,\n",
       " 'US_usabd_ivc': 144,\n",
       " 'MR_mriabd_bowel_abnormality': 145,\n",
       " 'MR_af_post_op': 146,\n",
       " 'CT_lung_Parenchyma_destruction': 147,\n",
       " 'MR_mriabd_ovarian_pathology': 148,\n",
       " 'MR_af_osseous_disruption': 149,\n",
       " 'MR_hip_osseous_lesion': 150,\n",
       " 'US_usabd_ovary': 151,\n",
       " 'MR_knee_muscle_strain': 152,\n",
       " 'MR_mriabd_ascites': 153,\n",
       " 'MR_mriabd_adrenal_pathology': 154,\n",
       " 'MR_af_atfl_pathology': 155,\n",
       " 'US_usabd_kidney': 156,\n",
       " 'MR_mriabd_prostate_lesion': 157,\n",
       " 'MR_brain_chronic_infarct': 158,\n",
       " 'CT_abd_dilated_urinary_tract': 159,\n",
       " 'CT_abd_gallbladder_pathology': 160,\n",
       " 'MR_shoulder_soft_tissue_fluid': 161,\n",
       " 'MR_spine_foraminal_pathlogy': 162,\n",
       " 'MR_shoulder_acj_oa': 163,\n",
       " 'MR_shoulder_infraspinatus_pathology': 164}"
      ]
     },
     "execution_count": 13,
     "metadata": {},
     "output_type": "execute_result"
    }
   ],
   "source": [
    "d"
   ]
  },
  {
   "cell_type": "code",
   "execution_count": null,
   "id": "866c46e3-4f2e-4510-b1dc-fae4cb4f2760",
   "metadata": {},
   "outputs": [],
   "source": []
  }
 ],
 "metadata": {
  "kernelspec": {
   "display_name": "PDA",
   "language": "python",
   "name": "pda"
  },
  "language_info": {
   "codemirror_mode": {
    "name": "ipython",
    "version": 3
   },
   "file_extension": ".py",
   "mimetype": "text/x-python",
   "name": "python",
   "nbconvert_exporter": "python",
   "pygments_lexer": "ipython3",
   "version": "3.9.12"
  }
 },
 "nbformat": 4,
 "nbformat_minor": 5
}
